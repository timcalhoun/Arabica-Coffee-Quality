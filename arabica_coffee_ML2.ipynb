{
 "cells": [
  {
   "cell_type": "markdown",
   "id": "a2d9cd60-b5be-4362-bf63-3a20bea51b90",
   "metadata": {},
   "source": [
    "# Arabica Coffee scoring categories best model from stepwise - determine Cupper.Points through Machine Learning "
   ]
  },
  {
   "cell_type": "markdown",
   "id": "82cb0f54-87be-4fd5-aa3a-917362857670",
   "metadata": {},
   "source": [
    "## Import Packages "
   ]
  },
  {
   "cell_type": "code",
   "execution_count": 1,
   "id": "0c323c3a-dff8-43aa-887b-df9083c31e32",
   "metadata": {},
   "outputs": [],
   "source": [
    "import pandas as pd\n",
    "from sklearn.linear_model import LinearRegression\n",
    "from sklearn.model_selection import train_test_split\n",
    "import matplotlib.pyplot as plt\n",
    "%matplotlib inline\n",
    "from sklearn import metrics\n",
    "import numpy as np\n",
    "from sklearn.model_selection import KFold\n",
    "from sklearn.model_selection import cross_val_score"
   ]
  },
  {
   "cell_type": "markdown",
   "id": "5ced833c-7462-44de-99c1-a6a70a1f87ca",
   "metadata": {},
   "source": [
    "## Import Dataset"
   ]
  },
  {
   "cell_type": "code",
   "execution_count": 2,
   "id": "6d91d680-adc6-4e42-8bc4-555d854bd2bb",
   "metadata": {},
   "outputs": [],
   "source": [
    "coffee3 = pd.read_csv(\"./coffee3.csv\")"
   ]
  },
  {
   "cell_type": "code",
   "execution_count": 3,
   "id": "3785f331-e24c-4d72-ab95-a114d0590797",
   "metadata": {},
   "outputs": [
    {
     "data": {
      "text/plain": [
       "['Country.of.Origin',\n",
       " 'Region.Name',\n",
       " 'Processing.Method',\n",
       " 'Aroma',\n",
       " 'Flavor',\n",
       " 'Aftertaste',\n",
       " 'Acidity',\n",
       " 'Body',\n",
       " 'Balance',\n",
       " 'Uniformity',\n",
       " 'Clean.Cup',\n",
       " 'Sweetness',\n",
       " 'Cupper.Points',\n",
       " 'Total.Cup.Points',\n",
       " 'altitude_mean_meters']"
      ]
     },
     "execution_count": 3,
     "metadata": {},
     "output_type": "execute_result"
    }
   ],
   "source": [
    "list(coffee3)"
   ]
  },
  {
   "cell_type": "markdown",
   "id": "e6847c15-5ea6-4dff-8b1a-9eba2e5ad39a",
   "metadata": {},
   "source": [
    "## Data Wrangling - subset X variables & Y variables in own arrays\n",
    "### x variable based on best stepwise model ran in R"
   ]
  },
  {
   "cell_type": "code",
   "execution_count": 4,
   "id": "daeace1a-79dc-42a0-8fba-2b1c7d634a12",
   "metadata": {},
   "outputs": [],
   "source": [
    "x = coffee3[['Flavor', 'Aftertaste', 'Acidity', 'Body', 'Balance', 'Clean.Cup']]"
   ]
  },
  {
   "cell_type": "code",
   "execution_count": 5,
   "id": "04aa8f5d-80e9-48b6-8222-90659fe15e52",
   "metadata": {},
   "outputs": [],
   "source": [
    "y = coffee3[['Cupper.Points']]"
   ]
  },
  {
   "cell_type": "markdown",
   "id": "fe9705b7-ad63-47aa-9fcb-7246c43f2a0a",
   "metadata": {},
   "source": [
    "## Train Test Split Data"
   ]
  },
  {
   "cell_type": "code",
   "execution_count": 6,
   "id": "28d45bfe-7f8e-4a25-8964-05b9b988ba2b",
   "metadata": {},
   "outputs": [],
   "source": [
    "x_train, x_test, y_train, y_test = train_test_split(x,y, test_size = .4, random_state=13)"
   ]
  },
  {
   "cell_type": "code",
   "execution_count": 7,
   "id": "562449ab-8afc-4fac-8d42-9858fe31535f",
   "metadata": {},
   "outputs": [
    {
     "name": "stdout",
     "output_type": "stream",
     "text": [
      "(598, 6) (598, 1)\n",
      "(400, 6) (400, 1)\n"
     ]
    }
   ],
   "source": [
    "print(x_train.shape, y_train.shape)\n",
    "print(x_test.shape, y_test.shape)"
   ]
  },
  {
   "cell_type": "markdown",
   "id": "6774be42-8b0c-4eb0-b28c-727a43680004",
   "metadata": {},
   "source": [
    "### 598 train rows to 400 test rows"
   ]
  },
  {
   "cell_type": "markdown",
   "id": "f78abb1a-056b-40e1-a851-45fc28ebf6fe",
   "metadata": {},
   "source": [
    "## Run Linear Regression"
   ]
  },
  {
   "cell_type": "code",
   "execution_count": 8,
   "id": "c56d7716-8139-40ab-8046-000a2ee6dcc8",
   "metadata": {},
   "outputs": [
    {
     "data": {
      "text/html": [
       "<style>#sk-container-id-1 {color: black;background-color: white;}#sk-container-id-1 pre{padding: 0;}#sk-container-id-1 div.sk-toggleable {background-color: white;}#sk-container-id-1 label.sk-toggleable__label {cursor: pointer;display: block;width: 100%;margin-bottom: 0;padding: 0.3em;box-sizing: border-box;text-align: center;}#sk-container-id-1 label.sk-toggleable__label-arrow:before {content: \"▸\";float: left;margin-right: 0.25em;color: #696969;}#sk-container-id-1 label.sk-toggleable__label-arrow:hover:before {color: black;}#sk-container-id-1 div.sk-estimator:hover label.sk-toggleable__label-arrow:before {color: black;}#sk-container-id-1 div.sk-toggleable__content {max-height: 0;max-width: 0;overflow: hidden;text-align: left;background-color: #f0f8ff;}#sk-container-id-1 div.sk-toggleable__content pre {margin: 0.2em;color: black;border-radius: 0.25em;background-color: #f0f8ff;}#sk-container-id-1 input.sk-toggleable__control:checked~div.sk-toggleable__content {max-height: 200px;max-width: 100%;overflow: auto;}#sk-container-id-1 input.sk-toggleable__control:checked~label.sk-toggleable__label-arrow:before {content: \"▾\";}#sk-container-id-1 div.sk-estimator input.sk-toggleable__control:checked~label.sk-toggleable__label {background-color: #d4ebff;}#sk-container-id-1 div.sk-label input.sk-toggleable__control:checked~label.sk-toggleable__label {background-color: #d4ebff;}#sk-container-id-1 input.sk-hidden--visually {border: 0;clip: rect(1px 1px 1px 1px);clip: rect(1px, 1px, 1px, 1px);height: 1px;margin: -1px;overflow: hidden;padding: 0;position: absolute;width: 1px;}#sk-container-id-1 div.sk-estimator {font-family: monospace;background-color: #f0f8ff;border: 1px dotted black;border-radius: 0.25em;box-sizing: border-box;margin-bottom: 0.5em;}#sk-container-id-1 div.sk-estimator:hover {background-color: #d4ebff;}#sk-container-id-1 div.sk-parallel-item::after {content: \"\";width: 100%;border-bottom: 1px solid gray;flex-grow: 1;}#sk-container-id-1 div.sk-label:hover label.sk-toggleable__label {background-color: #d4ebff;}#sk-container-id-1 div.sk-serial::before {content: \"\";position: absolute;border-left: 1px solid gray;box-sizing: border-box;top: 0;bottom: 0;left: 50%;z-index: 0;}#sk-container-id-1 div.sk-serial {display: flex;flex-direction: column;align-items: center;background-color: white;padding-right: 0.2em;padding-left: 0.2em;position: relative;}#sk-container-id-1 div.sk-item {position: relative;z-index: 1;}#sk-container-id-1 div.sk-parallel {display: flex;align-items: stretch;justify-content: center;background-color: white;position: relative;}#sk-container-id-1 div.sk-item::before, #sk-container-id-1 div.sk-parallel-item::before {content: \"\";position: absolute;border-left: 1px solid gray;box-sizing: border-box;top: 0;bottom: 0;left: 50%;z-index: -1;}#sk-container-id-1 div.sk-parallel-item {display: flex;flex-direction: column;z-index: 1;position: relative;background-color: white;}#sk-container-id-1 div.sk-parallel-item:first-child::after {align-self: flex-end;width: 50%;}#sk-container-id-1 div.sk-parallel-item:last-child::after {align-self: flex-start;width: 50%;}#sk-container-id-1 div.sk-parallel-item:only-child::after {width: 0;}#sk-container-id-1 div.sk-dashed-wrapped {border: 1px dashed gray;margin: 0 0.4em 0.5em 0.4em;box-sizing: border-box;padding-bottom: 0.4em;background-color: white;}#sk-container-id-1 div.sk-label label {font-family: monospace;font-weight: bold;display: inline-block;line-height: 1.2em;}#sk-container-id-1 div.sk-label-container {text-align: center;}#sk-container-id-1 div.sk-container {/* jupyter's `normalize.less` sets `[hidden] { display: none; }` but bootstrap.min.css set `[hidden] { display: none !important; }` so we also need the `!important` here to be able to override the default hidden behavior on the sphinx rendered scikit-learn.org. See: https://github.com/scikit-learn/scikit-learn/issues/21755 */display: inline-block !important;position: relative;}#sk-container-id-1 div.sk-text-repr-fallback {display: none;}</style><div id=\"sk-container-id-1\" class=\"sk-top-container\"><div class=\"sk-text-repr-fallback\"><pre>LinearRegression()</pre><b>In a Jupyter environment, please rerun this cell to show the HTML representation or trust the notebook. <br />On GitHub, the HTML representation is unable to render, please try loading this page with nbviewer.org.</b></div><div class=\"sk-container\" hidden><div class=\"sk-item\"><div class=\"sk-estimator sk-toggleable\"><input class=\"sk-toggleable__control sk-hidden--visually\" id=\"sk-estimator-id-1\" type=\"checkbox\" checked><label for=\"sk-estimator-id-1\" class=\"sk-toggleable__label sk-toggleable__label-arrow\">LinearRegression</label><div class=\"sk-toggleable__content\"><pre>LinearRegression()</pre></div></div></div></div></div>"
      ],
      "text/plain": [
       "LinearRegression()"
      ]
     },
     "execution_count": 8,
     "metadata": {},
     "output_type": "execute_result"
    }
   ],
   "source": [
    "lm = LinearRegression()\n",
    "lm.fit(x_train, y_train)"
   ]
  },
  {
   "cell_type": "markdown",
   "id": "15fadcaa-b598-429e-bb79-8bfb1d0d7819",
   "metadata": {},
   "source": [
    "## Examine Predictions"
   ]
  },
  {
   "cell_type": "code",
   "execution_count": 9,
   "id": "816c6b1c-6908-4af6-8dbe-8958a4415fc4",
   "metadata": {},
   "outputs": [
    {
     "data": {
      "text/plain": [
       "array([[7.62046289],\n",
       "       [7.27622386],\n",
       "       [7.48948023],\n",
       "       [7.07898836],\n",
       "       [7.21764201],\n",
       "       [7.34146151],\n",
       "       [7.22002379],\n",
       "       [6.83338056],\n",
       "       [6.96606397],\n",
       "       [7.29013048],\n",
       "       [7.46627485],\n",
       "       [7.62810946],\n",
       "       [7.40642963],\n",
       "       [7.50364175],\n",
       "       [7.42488881],\n",
       "       [6.97107643],\n",
       "       [7.76893817],\n",
       "       [7.35009456],\n",
       "       [7.53342952],\n",
       "       [6.42886305],\n",
       "       [7.20538712],\n",
       "       [6.9470672 ],\n",
       "       [6.8553559 ],\n",
       "       [7.59589167],\n",
       "       [7.18857943],\n",
       "       [7.84157045],\n",
       "       [6.32511772],\n",
       "       [6.99725212],\n",
       "       [7.36305989],\n",
       "       [7.86206531],\n",
       "       [6.84442872],\n",
       "       [7.7123128 ],\n",
       "       [7.43317524],\n",
       "       [7.39237688],\n",
       "       [7.4361274 ],\n",
       "       [7.64597261],\n",
       "       [7.36455412],\n",
       "       [7.81462564],\n",
       "       [6.71293257],\n",
       "       [7.33352043],\n",
       "       [7.67521697],\n",
       "       [7.06422734],\n",
       "       [7.44657305],\n",
       "       [7.51247769],\n",
       "       [7.44864383],\n",
       "       [7.48738899],\n",
       "       [7.67268642],\n",
       "       [7.63417272],\n",
       "       [7.54413915],\n",
       "       [7.67273904],\n",
       "       [7.51243966],\n",
       "       [7.7840989 ],\n",
       "       [7.26690465],\n",
       "       [7.58054498],\n",
       "       [7.30432607],\n",
       "       [7.62389733],\n",
       "       [7.38604186],\n",
       "       [7.53663119],\n",
       "       [7.34212851],\n",
       "       [6.99478546],\n",
       "       [7.65439269],\n",
       "       [7.03732101],\n",
       "       [7.38235882],\n",
       "       [7.38999457],\n",
       "       [7.38347066],\n",
       "       [6.90119933],\n",
       "       [7.18665408],\n",
       "       [7.71111941],\n",
       "       [7.85504694],\n",
       "       [8.25795758],\n",
       "       [7.41140008],\n",
       "       [7.32901234],\n",
       "       [7.00650504],\n",
       "       [6.90018645],\n",
       "       [7.70232196],\n",
       "       [7.4113836 ],\n",
       "       [7.53588456],\n",
       "       [7.88051226],\n",
       "       [7.37688241],\n",
       "       [7.6934941 ],\n",
       "       [7.41278485],\n",
       "       [7.16571685],\n",
       "       [7.51862897],\n",
       "       [6.86445311],\n",
       "       [7.72070754],\n",
       "       [7.6638002 ],\n",
       "       [7.67179093],\n",
       "       [7.95463102],\n",
       "       [7.40133381],\n",
       "       [7.59625045],\n",
       "       [7.61966301],\n",
       "       [7.90377656],\n",
       "       [7.48124592],\n",
       "       [7.47332006],\n",
       "       [7.48738899],\n",
       "       [7.40479535],\n",
       "       [7.63545414],\n",
       "       [6.91887354],\n",
       "       [7.65930601],\n",
       "       [7.52964709],\n",
       "       [7.30546778],\n",
       "       [7.51289279],\n",
       "       [7.5382639 ],\n",
       "       [7.49698819],\n",
       "       [7.83365281],\n",
       "       [7.53824344],\n",
       "       [8.04406788],\n",
       "       [7.20164317],\n",
       "       [7.47854666],\n",
       "       [7.45157345],\n",
       "       [7.62957392],\n",
       "       [7.20749498],\n",
       "       [7.55072836],\n",
       "       [7.80571643],\n",
       "       [7.45734519],\n",
       "       [7.92391768],\n",
       "       [7.51582833],\n",
       "       [7.39141371],\n",
       "       [7.48445299],\n",
       "       [7.59268699],\n",
       "       [7.04958956],\n",
       "       [7.895519  ],\n",
       "       [7.59511573],\n",
       "       [7.40529734],\n",
       "       [7.18123519],\n",
       "       [7.30719421],\n",
       "       [7.50051618],\n",
       "       [7.59061778],\n",
       "       [7.40807858],\n",
       "       [6.86381785],\n",
       "       [7.24505077],\n",
       "       [7.08218348],\n",
       "       [7.85077998],\n",
       "       [7.53610733],\n",
       "       [7.87706321],\n",
       "       [7.41740709],\n",
       "       [7.51878093],\n",
       "       [8.22476255],\n",
       "       [7.54524423],\n",
       "       [7.02127923],\n",
       "       [7.55641149],\n",
       "       [6.96049388],\n",
       "       [7.37638442],\n",
       "       [7.61688176],\n",
       "       [7.49631865],\n",
       "       [7.65227801],\n",
       "       [7.44694468],\n",
       "       [7.68396975],\n",
       "       [6.79408846],\n",
       "       [7.57299358],\n",
       "       [7.64089131],\n",
       "       [7.65253289],\n",
       "       [7.6313151 ],\n",
       "       [8.09520325],\n",
       "       [7.446769  ],\n",
       "       [7.29169788],\n",
       "       [8.54921371],\n",
       "       [7.49657309],\n",
       "       [7.49338904],\n",
       "       [7.74541101],\n",
       "       [7.72069562],\n",
       "       [7.1348283 ],\n",
       "       [7.34006026],\n",
       "       [7.14697742],\n",
       "       [7.47614467],\n",
       "       [7.52912323],\n",
       "       [7.33299703],\n",
       "       [7.7043693 ],\n",
       "       [7.33354088],\n",
       "       [8.48376959],\n",
       "       [7.8216913 ],\n",
       "       [7.13404034],\n",
       "       [7.40975089],\n",
       "       [7.82614485],\n",
       "       [7.751704  ],\n",
       "       [7.60617545],\n",
       "       [7.72730528],\n",
       "       [7.41602316],\n",
       "       [7.47070496],\n",
       "       [7.20793149],\n",
       "       [7.59298646],\n",
       "       [7.36591037],\n",
       "       [7.48860537],\n",
       "       [7.69493879],\n",
       "       [7.69887787],\n",
       "       [7.38390717],\n",
       "       [7.30129211],\n",
       "       [7.77773704],\n",
       "       [7.1044487 ],\n",
       "       [7.9153075 ],\n",
       "       [7.1986795 ],\n",
       "       [7.5099321 ],\n",
       "       [7.45615179],\n",
       "       [7.15820889],\n",
       "       [7.35560455],\n",
       "       [7.6347846 ],\n",
       "       [7.71938522],\n",
       "       [7.55940741],\n",
       "       [7.52634627],\n",
       "       [7.44063388],\n",
       "       [7.30516023],\n",
       "       [7.64931732],\n",
       "       [7.20161972],\n",
       "       [7.72571647],\n",
       "       [7.48408818],\n",
       "       [7.19637767],\n",
       "       [7.42572876],\n",
       "       [7.92916149],\n",
       "       [7.29715804],\n",
       "       [7.65982941],\n",
       "       [7.66851032],\n",
       "       [7.69924411],\n",
       "       [7.61144205],\n",
       "       [7.86498797],\n",
       "       [7.77798723],\n",
       "       [7.49356215],\n",
       "       [7.70684578],\n",
       "       [7.02383025],\n",
       "       [7.34268155],\n",
       "       [7.51881786],\n",
       "       [7.75787548],\n",
       "       [7.8877973 ],\n",
       "       [7.67872194],\n",
       "       [7.62553546],\n",
       "       [7.43364978],\n",
       "       [7.42357062],\n",
       "       [7.69202155],\n",
       "       [7.23427862],\n",
       "       [7.58163084],\n",
       "       [7.67323327],\n",
       "       [7.11732949],\n",
       "       [7.81721519],\n",
       "       [7.20648837],\n",
       "       [7.59722744],\n",
       "       [7.63935799],\n",
       "       [7.59408892],\n",
       "       [7.75530428],\n",
       "       [6.60368769],\n",
       "       [7.44937344],\n",
       "       [7.39237688],\n",
       "       [7.61101193],\n",
       "       [7.62810946],\n",
       "       [7.47158281],\n",
       "       [7.50889942],\n",
       "       [7.76161987],\n",
       "       [7.750578  ],\n",
       "       [7.81168   ],\n",
       "       [7.82164401],\n",
       "       [7.45352797],\n",
       "       [8.78252301],\n",
       "       [8.06098194],\n",
       "       [7.03863237],\n",
       "       [6.91356346],\n",
       "       [7.39847553],\n",
       "       [7.34174254],\n",
       "       [7.33907621],\n",
       "       [7.77782394],\n",
       "       [7.4896726 ],\n",
       "       [7.13332737],\n",
       "       [8.08575229],\n",
       "       [7.46613204],\n",
       "       [7.65630142],\n",
       "       [7.50494928],\n",
       "       [6.24056943],\n",
       "       [7.13232074],\n",
       "       [7.56841435],\n",
       "       [7.52036225],\n",
       "       [7.39584638],\n",
       "       [7.64089385],\n",
       "       [7.37072398],\n",
       "       [7.99757866],\n",
       "       [7.86242759],\n",
       "       [6.9456476 ],\n",
       "       [7.11183141],\n",
       "       [7.75085072],\n",
       "       [7.63632403],\n",
       "       [7.75617094],\n",
       "       [7.63419573],\n",
       "       [7.56383752],\n",
       "       [7.20664057],\n",
       "       [7.89845454],\n",
       "       [7.82827458],\n",
       "       [7.34355021],\n",
       "       [7.29169788],\n",
       "       [7.55918888],\n",
       "       [7.74566545],\n",
       "       [7.70267295],\n",
       "       [7.12028751],\n",
       "       [8.04734849],\n",
       "       [7.47821292],\n",
       "       [7.66415261],\n",
       "       [7.33625326],\n",
       "       [7.15072437],\n",
       "       [7.68353863],\n",
       "       [7.55921572],\n",
       "       [7.44659649],\n",
       "       [7.2563193 ],\n",
       "       [7.52841166],\n",
       "       [7.68963596],\n",
       "       [7.70955203],\n",
       "       [7.52835018],\n",
       "       [7.61146903],\n",
       "       [7.42286401],\n",
       "       [7.53217763],\n",
       "       [7.55575634],\n",
       "       [7.34312306],\n",
       "       [7.92795194],\n",
       "       [7.29414753],\n",
       "       [7.55207977],\n",
       "       [7.15678762],\n",
       "       [7.63802038],\n",
       "       [7.33142963],\n",
       "       [7.84371056],\n",
       "       [7.15380222],\n",
       "       [7.65978641],\n",
       "       [7.50447271],\n",
       "       [7.60793452],\n",
       "       [7.62682917],\n",
       "       [7.20100897],\n",
       "       [7.37641966],\n",
       "       [7.40055437],\n",
       "       [7.72532158],\n",
       "       [7.56214137],\n",
       "       [7.16162331],\n",
       "       [6.84300903],\n",
       "       [7.19745647],\n",
       "       [7.54213201],\n",
       "       [7.91003107],\n",
       "       [7.99062177],\n",
       "       [8.00397778],\n",
       "       [7.46863418],\n",
       "       [7.78998894],\n",
       "       [7.71354563],\n",
       "       [7.34786659],\n",
       "       [7.56193586],\n",
       "       [7.47653632],\n",
       "       [7.342139  ],\n",
       "       [7.61759195],\n",
       "       [7.62178314],\n",
       "       [7.77571608],\n",
       "       [7.40615174],\n",
       "       [6.4558334 ],\n",
       "       [7.16578119],\n",
       "       [7.63499561],\n",
       "       [7.81081863],\n",
       "       [7.30474116],\n",
       "       [7.4244523 ],\n",
       "       [7.8103767 ],\n",
       "       [7.35645022],\n",
       "       [8.53884315],\n",
       "       [6.80303596],\n",
       "       [7.66485026],\n",
       "       [7.37468624],\n",
       "       [7.88257509],\n",
       "       [7.61293448],\n",
       "       [7.4544961 ],\n",
       "       [7.39940163],\n",
       "       [7.55690628],\n",
       "       [7.2220277 ],\n",
       "       [7.4577845 ],\n",
       "       [7.09355955],\n",
       "       [6.94508727],\n",
       "       [7.44983723],\n",
       "       [7.53293549],\n",
       "       [7.49489695],\n",
       "       [7.94436911],\n",
       "       [6.84746268],\n",
       "       [7.53075593],\n",
       "       [7.41236056],\n",
       "       [7.39477983],\n",
       "       [7.86363654],\n",
       "       [7.55705961],\n",
       "       [7.67395149],\n",
       "       [7.65388528],\n",
       "       [7.61761241],\n",
       "       [7.46606813],\n",
       "       [7.13529379],\n",
       "       [7.60770788],\n",
       "       [7.56286939],\n",
       "       [6.07704205],\n",
       "       [7.67941991],\n",
       "       [7.49253463],\n",
       "       [7.48103377],\n",
       "       [7.66471947],\n",
       "       [7.80289558],\n",
       "       [7.08148973],\n",
       "       [7.54918002],\n",
       "       [7.59461278],\n",
       "       [7.34805315],\n",
       "       [7.67063862],\n",
       "       [6.73650743],\n",
       "       [7.69049975],\n",
       "       [7.24927409],\n",
       "       [7.10050518],\n",
       "       [7.67766338],\n",
       "       [7.36145682],\n",
       "       [7.48404428],\n",
       "       [7.32839857],\n",
       "       [7.27174986],\n",
       "       [7.25432632]])"
      ]
     },
     "execution_count": 9,
     "metadata": {},
     "output_type": "execute_result"
    }
   ],
   "source": [
    "predictions = lm.predict(x_test)\n",
    "predictions"
   ]
  },
  {
   "cell_type": "markdown",
   "id": "259a7287-7801-4d69-bb65-9f0d04bcd563",
   "metadata": {},
   "source": [
    "## Plot predictions to see how best fit the model is"
   ]
  },
  {
   "cell_type": "code",
   "execution_count": 10,
   "id": "2c6600c8-b7f2-4b96-bc82-41cf51ae945f",
   "metadata": {},
   "outputs": [
    {
     "data": {
      "text/plain": [
       "<matplotlib.collections.PathCollection at 0x15211ba9ea0>"
      ]
     },
     "execution_count": 10,
     "metadata": {},
     "output_type": "execute_result"
    },
    {
     "data": {
      "image/png": "[encoded data removed]",
      "text/plain": [
       "<Figure size 432x288 with 1 Axes>"
      ]
     },
     "metadata": {
      "needs_background": "light"
     },
     "output_type": "display_data"
    }
   ],
   "source": [
    "plt.scatter(y_test, predictions)"
   ]
  },
  {
   "cell_type": "markdown",
   "id": "ecb1bc5b-e9ae-40fa-9c20-0ca4794ba771",
   "metadata": {},
   "source": [
    "### Scatter plot shows a pretty straignt line"
   ]
  },
  {
   "cell_type": "markdown",
   "id": "d6851467-47c8-4337-8b39-d921ba637a00",
   "metadata": {},
   "source": [
    "## Accuracy Score"
   ]
  },
  {
   "cell_type": "code",
   "execution_count": 11,
   "id": "00a0a9f8-2aed-436c-897e-94af8dada7fc",
   "metadata": {},
   "outputs": [
    {
     "name": "stdout",
     "output_type": "stream",
     "text": [
      "Score: 0.7013185705247282\n"
     ]
    }
   ],
   "source": [
    "print(\"Score:\", lm.score(x_test, y_test))"
   ]
  },
  {
   "cell_type": "markdown",
   "id": "9748b493-6231-4f54-8b15-a2dcb1db162d",
   "metadata": {},
   "source": [
    "### This model is accuarate 70% of the time"
   ]
  },
  {
   "cell_type": "markdown",
   "id": "a2cad457-4ef8-44ca-a778-a8c2076198f6",
   "metadata": {},
   "source": [
    "## Mean Absolute Error"
   ]
  },
  {
   "cell_type": "code",
   "execution_count": 12,
   "id": "9d41fc35-f37f-448a-989e-eda33c6b58ba",
   "metadata": {},
   "outputs": [
    {
     "data": {
      "text/plain": [
       "0.12778220634993265"
      ]
     },
     "execution_count": 12,
     "metadata": {},
     "output_type": "execute_result"
    }
   ],
   "source": [
    "metrics.mean_absolute_error(y_test, predictions)"
   ]
  },
  {
   "cell_type": "markdown",
   "id": "ed848721-5273-4985-8cea-b87aee24119e",
   "metadata": {},
   "source": [
    "### At .12, MAE is really good being close to zero"
   ]
  },
  {
   "cell_type": "markdown",
   "id": "9c81093b-2182-45d3-ba60-81b69fd790e0",
   "metadata": {},
   "source": [
    "## Mean Square Error"
   ]
  },
  {
   "cell_type": "code",
   "execution_count": 13,
   "id": "c73620a9-8089-4b2b-8ba6-75f61a422707",
   "metadata": {},
   "outputs": [
    {
     "data": {
      "text/plain": [
       "0.042664106395206326"
      ]
     },
     "execution_count": 13,
     "metadata": {},
     "output_type": "execute_result"
    }
   ],
   "source": [
    "metrics.mean_squared_error(y_test, predictions)"
   ]
  },
  {
   "cell_type": "markdown",
   "id": "1606680d-6488-479b-a7b6-1307311b31fe",
   "metadata": {},
   "source": [
    "### Because MAE was so low and less than 1, MSE is even closer to zero"
   ]
  },
  {
   "cell_type": "markdown",
   "id": "cf28d87a-5e9a-4bee-829d-d98ff006b3ba",
   "metadata": {},
   "source": [
    "## Root Mean Squared Error"
   ]
  },
  {
   "cell_type": "code",
   "execution_count": 14,
   "id": "91fb9378-4463-420a-a183-768ff2e6e39b",
   "metadata": {},
   "outputs": [
    {
     "data": {
      "text/plain": [
       "0.2065529142743"
      ]
     },
     "execution_count": 14,
     "metadata": {},
     "output_type": "execute_result"
    }
   ],
   "source": [
    "np.sqrt(metrics.mean_squared_error(y_test, predictions))"
   ]
  },
  {
   "cell_type": "markdown",
   "id": "06900595-195c-4c8a-bce3-843d52d2589d",
   "metadata": {},
   "source": [
    "### RMSE still really good at close to zero"
   ]
  },
  {
   "cell_type": "markdown",
   "id": "a35c10f5-aff6-4035-8219-dcf30e714d9a",
   "metadata": {},
   "source": [
    "# ******************************************************************************************************************************"
   ]
  },
  {
   "cell_type": "markdown",
   "id": "21d7dbd7-c20c-4c15-91ea-fafac6f96551",
   "metadata": {},
   "source": [
    "## k-Fold Cross Validation"
   ]
  },
  {
   "cell_type": "markdown",
   "id": "27ed1819-9d0b-488b-8add-346b811f47d7",
   "metadata": {},
   "source": [
    "## Create folds"
   ]
  },
  {
   "cell_type": "code",
   "execution_count": 15,
   "id": "5407a054-d6c3-4c3d-850b-d176630b5b2b",
   "metadata": {},
   "outputs": [
    {
     "name": "stdout",
     "output_type": "stream",
     "text": [
      "train: [  0   1   2   3   4   5   6   7   8   9  10  11  12  13  14  16  17  18\n",
      "  19  20  22  23  24  25  26  27  28  29  30  31  32  33  34  35  36  37\n",
      "  38  39  40  41  42  43  44  45  47  48  49  50  53  54  55  56  57  59\n",
      "  60  61  62  64  65  66  67  68  69  71  72  73  74  75  76  79  80  81\n",
      "  82  83  84  86  87  88  89  90  91  92  93  94  95  96  97 100 101 102\n",
      " 103 104 105 106 107 109 110 111 112 113 115 116 117 118 119 120 121 122\n",
      " 123 124 125 126 127 128 129 130 131 132 133 134 135 136 137 138 139 140\n",
      " 141 142 143 144 145 146 147 148 149 150 151 152 153 154 155 156 157 158\n",
      " 159 160 161 162 163 164 165 166 167 168 169 170 171 172 173 174 175 176\n",
      " 177 178 179 180 181 182 183 184 186 187 188 190 191 193 194 195 197 198\n",
      " 199 200 201 202 203 204 205 207 208 209 210 211 212 213 214 215 216 217\n",
      " 218 219 220 221 223 225 226 227 228 229 230 231 232 234 235 236 237 238\n",
      " 239 240 241 242 243 244 245 247 248 249 250 252 253 254 255 256 257 258\n",
      " 259 260 262 263 266 267 268 270 271 272 273 274 276 277 278 279 280 282\n",
      " 283 284 285 287 288 289 290 291 292 293 294 295 296 298 299 300 301 302\n",
      " 303 304 305 306 307 308 309 310 311 312 313 314 315 317 318 319 320 321\n",
      " 322 323 324 325 326 327 328 330 331 332 334 335 336 338 339 340 341 342\n",
      " 343 344 345 346 347 348 349 350 351 352 353 354 355 356 357 358 359 360\n",
      " 361 363 364 365 366 368 369 370 371 373 375 376 377 378 379 380 382 383\n",
      " 385 386 387 388 389 390 391 393 394 395 396 397 398 399 401 402 403 404\n",
      " 405 406 408 409 410 412 414 415 416 418 419 420 421 422 423 424 426 427\n",
      " 428 429 430 431 432 433 434 435 436 437 438 439 441 442 443 444 445 446\n",
      " 447 448 449 450 451 452 453 455 456 457 458 459 460 461 462 463 465 466\n",
      " 467 468 469 470 471 472 473 474 475 476 477 478 479 481 482 483 484 485\n",
      " 486 487 488 489 490 491 492 493 494 495 496 497 498 499 500 501 502 503\n",
      " 504 505 506 507 508 510 511 512 515 516 518 519 520 521 522 523 525 526\n",
      " 527 528 529 530 531 532 533 534 535 536 537 538 541 542 543 544 545 546\n",
      " 547 548 549 550 551 552 553 554 555 556 557 558 559 560 561 562 565 567\n",
      " 568 570 571 572 574 575 576 577 578 579 581 582 583 584 585 586 587 588\n",
      " 589 590 593 594 595 596 597 598 599 600 601 602 603 604 606 607 609 611\n",
      " 612 614 615 616 617 618 620 621 623 624 625 627 628 629 630 631 632 633\n",
      " 634 635 636 637 638 639 640 641 643 644 645 646 647 648 649 650 651 652\n",
      " 653 654 655 656 657 658 659 660 662 663 664 665 666 667 668 669 670 674\n",
      " 675 676 677 678 680 681 682 683 684 685 686 687 689 690 691 692 693 694\n",
      " 695 696 697 698 699 700 701 702 704 706 707 708 710 711 712 713 714 715\n",
      " 716 717 718 719 720 721 722 723 724 725 726 727 728 730 731 732 733 734\n",
      " 735 736 737 739 740 742 743 745 747 748 750 751 753 754 755 756 757 758\n",
      " 759 760 761 762 763 764 765 766 767 768 769 770 771 772 773 776 778 779\n",
      " 781 782 784 785 786 787 788 789 790 792 793 794 795 797 798 799 800 801\n",
      " 802 803 804 805 807 809 810 811 812 813 814 815 816 817 818 819 820 821\n",
      " 822 823 824 825 826 827 828 829 830 831 832 833 834 835 836 840 841 842\n",
      " 843 844 845 846 847 848 849 850 851 852 853 854 855 856 857 858 859 860\n",
      " 861 863 864 865 866 867 868 869 870 872 873 874 876 877 878 879 880 881\n",
      " 882 883 884 886 887 888 889 890 891 892 893 894 896 897 898 900 901 902\n",
      " 903 904 905 906 907 908 910 911 912 913 914 915 917 918 919 921 922 923\n",
      " 924 925 927 930 931 932 933 934 935 936 937 938 939 940 941 942 943 944\n",
      " 945 946 947 948 949 950 951 952 953 954 955 956 957 958 959 961 962 963\n",
      " 964 965 966 967 968 969 971 973 974 975 977 978 979 980 981 982 986 988\n",
      " 989 990 991 992 993 994 995 996 997], test: [ 15  21  46  51  52  58  63  70  77  78  85  98  99 108 114 185 189 192\n",
      " 196 206 222 224 233 246 251 261 264 265 269 275 281 286 297 316 329 333\n",
      " 337 362 367 372 374 381 384 392 400 407 411 413 417 425 440 454 464 480\n",
      " 509 513 514 517 524 539 540 563 564 566 569 573 580 591 592 605 608 610\n",
      " 613 619 622 626 642 661 671 672 673 679 688 703 705 709 729 738 741 744\n",
      " 746 749 752 774 775 777 780 783 791 796 806 808 837 838 839 862 871 875\n",
      " 885 895 899 909 916 920 926 928 929 960 970 972 976 983 984 985 987]\n",
      "train: [  1   2   5   6   7   8   9  11  12  13  14  15  16  17  19  20  21  22\n",
      "  23  24  25  26  27  28  29  30  31  32  33  34  35  36  37  38  39  40\n",
      "  41  42  43  45  46  47  48  49  50  51  52  53  54  55  57  58  59  60\n",
      "  61  62  63  64  67  68  69  70  71  72  73  74  75  76  77  78  79  80\n",
      "  81  82  83  84  85  86  88  89  90  91  92  93  95  96  97  98  99 100\n",
      " 102 103 104 105 107 108 109 110 113 114 116 118 119 120 121 122 123 124\n",
      " 125 126 128 129 130 131 132 134 137 138 139 140 141 142 143 144 146 148\n",
      " 149 150 151 152 153 154 155 157 158 159 160 161 162 163 164 166 169 170\n",
      " 171 173 174 175 176 177 178 179 180 181 182 184 185 186 187 188 189 190\n",
      " 192 193 194 196 197 198 199 201 202 203 204 205 206 208 209 210 211 212\n",
      " 213 217 218 220 221 222 223 224 225 226 227 228 229 230 231 232 233 234\n",
      " 235 236 237 238 239 240 241 242 243 244 245 246 247 249 250 251 252 253\n",
      " 255 256 257 258 259 261 262 263 264 265 267 268 269 270 271 272 273 274\n",
      " 275 276 278 279 280 281 282 283 284 286 288 289 290 292 294 295 296 297\n",
      " 300 301 302 303 304 305 306 307 308 309 310 311 312 313 314 315 316 317\n",
      " 318 319 323 324 325 326 327 328 329 330 331 332 333 334 335 337 338 339\n",
      " 340 342 343 344 345 347 348 349 351 352 353 354 355 356 358 359 360 361\n",
      " 362 363 364 365 366 367 368 369 370 371 372 373 374 375 376 377 378 379\n",
      " 381 382 383 384 385 386 387 388 389 391 392 393 394 396 398 399 400 401\n",
      " 402 403 404 406 407 408 409 410 411 412 413 414 415 417 418 419 420 421\n",
      " 422 423 424 425 426 427 428 429 431 432 434 436 437 438 439 440 441 442\n",
      " 443 444 445 446 447 449 450 451 452 453 454 455 456 457 458 462 463 464\n",
      " 465 466 467 468 469 470 471 472 475 478 479 480 481 482 483 484 485 486\n",
      " 487 488 489 490 491 492 493 494 495 496 498 499 500 502 503 504 505 506\n",
      " 507 509 511 512 513 514 515 516 517 518 519 520 521 523 524 525 526 527\n",
      " 528 529 530 531 532 533 534 535 536 537 538 539 540 542 543 545 546 548\n",
      " 549 550 552 553 554 555 557 558 559 560 562 563 564 565 566 567 568 569\n",
      " 571 572 573 574 575 576 577 579 580 582 583 584 585 586 587 588 589 590\n",
      " 591 592 593 594 595 596 597 598 599 600 601 602 603 604 605 606 607 608\n",
      " 610 611 612 613 614 615 616 617 618 619 621 622 623 624 625 626 627 628\n",
      " 629 630 631 632 633 635 636 637 638 639 640 641 642 643 646 647 648 649\n",
      " 650 651 652 653 654 655 656 657 658 659 660 661 662 663 664 665 666 667\n",
      " 668 670 671 672 673 674 676 677 678 679 680 681 684 685 686 687 688 689\n",
      " 690 691 692 693 694 696 697 698 700 701 702 703 704 705 706 707 708 709\n",
      " 711 712 713 714 716 717 718 720 722 723 725 726 728 729 730 731 732 733\n",
      " 734 735 736 737 738 739 740 741 742 744 745 746 747 748 749 750 751 752\n",
      " 753 755 756 757 758 759 760 761 763 764 765 766 767 768 769 770 771 772\n",
      " 773 774 775 777 778 779 780 781 782 783 784 785 786 787 788 789 790 791\n",
      " 792 793 794 795 796 797 798 799 800 801 802 803 804 805 806 807 808 809\n",
      " 810 811 813 814 815 816 818 820 821 822 823 825 826 828 829 830 831 832\n",
      " 833 834 835 836 837 838 839 840 841 843 844 845 847 848 849 851 852 853\n",
      " 854 855 856 857 858 859 860 861 862 863 864 865 866 867 868 869 871 872\n",
      " 873 874 875 876 877 878 879 880 881 882 884 885 886 887 888 890 891 893\n",
      " 894 895 897 898 899 900 901 902 903 904 905 906 907 908 909 910 911 913\n",
      " 914 915 916 917 918 919 920 921 922 923 924 925 926 927 928 929 930 931\n",
      " 932 933 934 935 936 937 938 939 940 941 942 944 945 946 947 948 949 950\n",
      " 951 952 953 954 955 956 957 958 959 960 961 962 963 964 965 966 967 968\n",
      " 969 970 971 972 973 974 975 976 977 978 979 980 981 982 983 984 985 986\n",
      " 987 989 990 991 992 993 994 995 996], test: [  0   3   4  10  18  44  56  65  66  87  94 101 106 111 112 115 117 127\n",
      " 133 135 136 145 147 156 165 167 168 172 183 191 195 200 207 214 215 216\n",
      " 219 248 254 260 266 277 285 287 291 293 298 299 320 321 322 336 341 346\n",
      " 350 357 380 390 395 397 405 416 430 433 435 448 459 460 461 473 474 476\n",
      " 477 497 501 508 510 522 541 544 547 551 556 561 570 578 581 609 620 634\n",
      " 644 645 669 675 682 683 695 699 710 715 719 721 724 727 743 754 762 776\n",
      " 812 817 819 824 827 842 846 850 870 883 889 892 896 912 943 988 997]\n",
      "train: [  0   1   3   4   5   6   7   8   9  10  11  12  13  14  15  16  17  18\n",
      "  19  20  21  22  23  24  25  26  27  28  30  31  32  34  35  36  38  41\n",
      "  42  44  46  47  48  49  50  51  52  53  54  55  56  57  58  59  60  61\n",
      "  63  64  65  66  67  70  72  73  74  75  77  78  79  80  81  82  83  84\n",
      "  85  86  87  88  89  90  91  93  94  95  96  98  99 100 101 102 103 104\n",
      " 106 107 108 109 110 111 112 113 114 115 117 118 119 120 121 122 123 124\n",
      " 125 126 127 128 130 131 132 133 134 135 136 137 138 139 141 142 143 145\n",
      " 146 147 148 149 151 152 153 154 155 156 158 160 161 162 164 165 166 167\n",
      " 168 169 170 171 172 173 174 175 176 177 178 179 180 181 182 183 184 185\n",
      " 186 187 188 189 190 191 192 193 194 195 196 197 198 200 201 202 203 204\n",
      " 205 206 207 208 209 210 211 212 213 214 215 216 217 219 220 221 222 223\n",
      " 224 225 226 227 228 229 230 232 233 234 236 238 239 240 242 243 244 245\n",
      " 246 247 248 249 250 251 252 253 254 255 256 258 260 261 262 263 264 265\n",
      " 266 267 268 269 270 271 272 274 275 277 278 280 281 282 283 284 285 286\n",
      " 287 288 290 291 293 294 296 297 298 299 300 301 302 303 305 307 309 310\n",
      " 311 312 313 314 315 316 320 321 322 323 324 325 326 327 328 329 330 331\n",
      " 332 333 334 335 336 337 338 339 341 342 343 344 345 346 347 348 349 350\n",
      " 352 353 354 355 357 358 359 360 361 362 364 365 367 368 369 370 372 373\n",
      " 374 375 376 377 378 379 380 381 382 383 384 385 386 387 389 390 392 394\n",
      " 395 396 397 398 399 400 401 402 403 405 406 407 408 409 410 411 412 413\n",
      " 414 415 416 417 418 419 420 421 422 424 425 426 427 428 429 430 431 432\n",
      " 433 434 435 436 438 439 440 441 443 445 446 447 448 449 450 451 452 453\n",
      " 454 455 457 458 459 460 461 462 463 464 465 466 467 468 469 470 471 472\n",
      " 473 474 475 476 477 478 479 480 481 483 484 487 488 489 490 491 492 493\n",
      " 494 495 496 497 498 499 500 501 502 503 504 506 507 508 509 510 513 514\n",
      " 515 516 517 518 520 521 522 523 524 525 526 527 528 529 530 531 532 533\n",
      " 534 535 536 537 539 540 541 543 544 547 548 550 551 552 554 555 556 557\n",
      " 558 560 561 563 564 565 566 567 568 569 570 571 572 573 574 575 576 578\n",
      " 579 580 581 582 584 585 586 587 589 591 592 593 594 595 596 597 598 599\n",
      " 600 601 603 604 605 606 607 608 609 610 613 614 615 616 617 618 619 620\n",
      " 622 623 625 626 627 628 629 630 631 632 633 634 635 636 638 639 640 641\n",
      " 642 643 644 645 646 648 649 650 652 653 654 655 656 657 658 659 660 661\n",
      " 662 663 664 665 666 668 669 670 671 672 673 675 676 678 679 680 681 682\n",
      " 683 684 685 686 688 689 690 691 692 693 694 695 696 697 698 699 700 701\n",
      " 702 703 704 705 706 707 708 709 710 711 712 713 714 715 716 718 719 720\n",
      " 721 722 723 724 725 726 727 728 729 730 731 732 733 734 735 736 737 738\n",
      " 739 740 741 742 743 744 746 747 748 749 750 751 752 753 754 755 756 759\n",
      " 760 761 762 763 765 767 768 769 770 771 772 773 774 775 776 777 778 779\n",
      " 780 782 783 784 785 786 788 789 790 791 792 793 794 795 796 797 798 799\n",
      " 801 802 803 805 806 807 808 809 810 812 813 814 815 817 818 819 820 822\n",
      " 823 824 825 826 827 829 831 833 835 836 837 838 839 840 841 842 843 844\n",
      " 845 846 849 850 851 853 854 856 857 858 859 860 861 862 864 865 866 867\n",
      " 868 869 870 871 874 875 877 878 880 881 882 883 884 885 886 887 888 889\n",
      " 890 891 892 893 894 895 896 897 898 899 900 901 902 903 905 906 907 908\n",
      " 909 911 912 913 914 915 916 917 920 921 922 923 925 926 927 928 929 930\n",
      " 931 932 933 934 935 936 937 938 939 940 941 942 943 944 945 947 948 949\n",
      " 950 951 952 953 954 955 956 957 958 959 960 961 962 963 964 965 966 967\n",
      " 968 970 971 972 973 974 975 976 977 978 979 980 981 982 983 984 985 986\n",
      " 987 988 989 990 992 993 994 996 997], test: [  2  29  33  37  39  40  43  45  62  68  69  71  76  92  97 105 116 129\n",
      " 140 144 150 157 159 163 199 218 231 235 237 241 257 259 273 276 279 289\n",
      " 292 295 304 306 308 317 318 319 340 351 356 363 366 371 388 391 393 404\n",
      " 423 437 442 444 456 482 485 486 505 511 512 519 538 542 545 546 549 553\n",
      " 559 562 577 583 588 590 602 611 612 621 624 637 647 651 667 674 677 687\n",
      " 717 745 757 758 764 766 781 787 800 804 811 816 821 828 830 832 834 847\n",
      " 848 852 855 863 872 873 876 879 904 910 918 919 924 946 969 991 995]\n",
      "train: [  0   1   2   3   4   5   6   9  10  11  13  14  15  16  17  18  20  21\n",
      "  22  23  24  25  26  28  29  31  32  33  34  35  36  37  38  39  40  41\n",
      "  42  43  44  45  46  47  48  49  50  51  52  53  54  55  56  57  58  59\n",
      "  60  61  62  63  64  65  66  68  69  70  71  72  73  74  75  76  77  78\n",
      "  79  80  81  82  83  85  86  87  89  91  92  94  95  96  97  98  99 100\n",
      " 101 102 103 104 105 106 108 109 111 112 114 115 116 117 119 120 121 122\n",
      " 123 124 126 127 128 129 130 131 132 133 135 136 137 138 139 140 141 143\n",
      " 144 145 146 147 148 149 150 151 152 153 154 155 156 157 158 159 160 162\n",
      " 163 164 165 166 167 168 169 171 172 173 174 175 176 178 180 181 183 184\n",
      " 185 187 189 190 191 192 194 195 196 197 199 200 202 203 205 206 207 209\n",
      " 211 212 213 214 215 216 217 218 219 221 222 224 225 228 229 231 232 233\n",
      " 235 236 237 239 241 243 244 245 246 247 248 250 251 253 254 255 256 257\n",
      " 258 259 260 261 262 264 265 266 267 268 269 270 271 272 273 274 275 276\n",
      " 277 278 279 280 281 282 284 285 286 287 288 289 290 291 292 293 295 296\n",
      " 297 298 299 300 301 303 304 305 306 307 308 309 310 311 312 313 314 315\n",
      " 316 317 318 319 320 321 322 323 324 325 326 327 328 329 330 332 333 336\n",
      " 337 338 339 340 341 342 343 344 345 346 348 349 350 351 353 354 355 356\n",
      " 357 358 359 360 361 362 363 364 365 366 367 368 369 371 372 373 374 376\n",
      " 377 378 380 381 382 383 384 385 387 388 389 390 391 392 393 394 395 396\n",
      " 397 398 399 400 401 403 404 405 406 407 409 410 411 412 413 415 416 417\n",
      " 419 420 422 423 424 425 426 427 428 429 430 431 432 433 434 435 436 437\n",
      " 438 439 440 441 442 443 444 446 447 448 449 450 451 453 454 455 456 457\n",
      " 459 460 461 462 463 464 465 466 467 468 469 470 473 474 475 476 477 478\n",
      " 479 480 481 482 483 485 486 487 488 489 490 491 492 493 494 495 496 497\n",
      " 499 500 501 502 503 504 505 506 508 509 510 511 512 513 514 515 516 517\n",
      " 518 519 520 522 523 524 526 527 528 529 531 532 533 534 535 536 537 538\n",
      " 539 540 541 542 543 544 545 546 547 549 550 551 552 553 554 555 556 557\n",
      " 558 559 560 561 562 563 564 565 566 567 568 569 570 571 572 573 574 575\n",
      " 577 578 580 581 582 583 586 587 588 589 590 591 592 596 597 598 599 600\n",
      " 601 602 605 606 607 608 609 610 611 612 613 614 615 616 618 619 620 621\n",
      " 622 623 624 625 626 627 628 629 630 631 632 633 634 635 636 637 638 640\n",
      " 641 642 644 645 647 648 649 650 651 652 653 655 656 657 658 659 660 661\n",
      " 662 664 667 668 669 670 671 672 673 674 675 676 677 678 679 680 681 682\n",
      " 683 684 685 686 687 688 689 690 691 692 693 694 695 696 697 698 699 700\n",
      " 701 702 703 705 706 707 709 710 711 713 714 715 716 717 718 719 720 721\n",
      " 723 724 725 726 727 728 729 730 732 733 734 735 736 737 738 739 741 742\n",
      " 743 744 745 746 747 748 749 750 751 752 754 755 756 757 758 759 762 763\n",
      " 764 765 766 767 768 769 770 771 772 773 774 775 776 777 778 779 780 781\n",
      " 782 783 784 785 787 788 789 790 791 792 793 794 795 796 797 798 799 800\n",
      " 802 803 804 805 806 807 808 809 810 811 812 813 815 816 817 818 819 820\n",
      " 821 822 823 824 826 827 828 829 830 831 832 833 834 836 837 838 839 840\n",
      " 841 842 843 844 846 847 848 849 850 851 852 853 854 855 856 858 859 860\n",
      " 861 862 863 864 865 866 867 868 870 871 872 873 874 875 876 878 879 880\n",
      " 881 883 884 885 886 887 888 889 890 891 892 893 894 895 896 898 899 900\n",
      " 901 902 903 904 906 907 908 909 910 911 912 915 916 917 918 919 920 922\n",
      " 923 924 926 928 929 930 931 933 934 936 937 938 939 940 941 942 943 944\n",
      " 945 946 948 949 950 951 952 953 954 955 957 959 960 962 963 964 965 966\n",
      " 967 968 969 970 972 973 974 975 976 978 979 980 982 983 984 985 986 987\n",
      " 988 989 990 991 993 994 995 996 997], test: [  7   8  12  19  27  30  67  84  88  90  93 107 110 113 118 125 134 142\n",
      " 161 170 177 179 182 186 188 193 198 201 204 208 210 220 223 226 227 230\n",
      " 234 238 240 242 249 252 263 283 294 302 331 334 335 347 352 370 375 379\n",
      " 386 402 408 414 418 421 445 452 458 471 472 484 498 507 521 525 530 548\n",
      " 576 579 584 585 593 594 595 603 604 617 639 643 646 654 663 665 666 704\n",
      " 708 712 722 731 740 753 760 761 786 801 814 825 835 845 857 869 877 882\n",
      " 897 905 913 914 921 925 927 932 935 947 956 958 961 971 977 981 992]\n",
      "train: [  0   1   2   3   4   5   6   7   8   9  10  11  12  14  15  17  18  19\n",
      "  21  23  24  26  27  28  29  30  31  32  33  36  37  38  39  40  41  42\n",
      "  43  44  45  46  47  48  49  50  51  52  54  55  56  57  58  59  60  62\n",
      "  63  64  65  66  67  68  69  70  71  72  74  75  76  77  78  80  81  82\n",
      "  83  84  85  86  87  88  89  90  91  92  93  94  95  96  97  98  99 101\n",
      " 102 103 104 105 106 107 108 109 110 111 112 113 114 115 116 117 118 120\n",
      " 122 123 124 125 126 127 128 129 130 132 133 134 135 136 137 138 139 140\n",
      " 141 142 143 144 145 146 147 148 149 150 153 156 157 158 159 160 161 163\n",
      " 164 165 166 167 168 170 171 172 173 174 175 176 177 178 179 181 182 183\n",
      " 184 185 186 188 189 190 191 192 193 194 195 196 198 199 200 201 202 203\n",
      " 204 205 206 207 208 209 210 212 213 214 215 216 217 218 219 220 221 222\n",
      " 223 224 225 226 227 228 229 230 231 232 233 234 235 237 238 239 240 241\n",
      " 242 243 244 245 246 248 249 250 251 252 253 254 255 256 257 259 260 261\n",
      " 262 263 264 265 266 269 272 273 275 276 277 278 279 280 281 282 283 285\n",
      " 286 287 288 289 290 291 292 293 294 295 296 297 298 299 300 301 302 303\n",
      " 304 305 306 308 309 314 315 316 317 318 319 320 321 322 324 325 326 327\n",
      " 328 329 330 331 332 333 334 335 336 337 338 339 340 341 344 346 347 349\n",
      " 350 351 352 354 355 356 357 359 361 362 363 364 365 366 367 368 369 370\n",
      " 371 372 373 374 375 376 377 379 380 381 382 384 385 386 387 388 389 390\n",
      " 391 392 393 394 395 397 398 400 401 402 403 404 405 406 407 408 409 410\n",
      " 411 412 413 414 415 416 417 418 419 420 421 422 423 424 425 427 429 430\n",
      " 431 432 433 434 435 437 438 440 442 443 444 445 446 447 448 449 450 451\n",
      " 452 454 455 456 457 458 459 460 461 462 463 464 465 466 467 468 469 470\n",
      " 471 472 473 474 475 476 477 478 479 480 482 483 484 485 486 487 489 490\n",
      " 491 493 495 496 497 498 499 500 501 502 503 504 505 506 507 508 509 510\n",
      " 511 512 513 514 515 516 517 519 520 521 522 524 525 526 527 528 530 531\n",
      " 532 533 534 535 536 537 538 539 540 541 542 543 544 545 546 547 548 549\n",
      " 550 551 552 553 554 555 556 557 558 559 560 561 562 563 564 566 567 568\n",
      " 569 570 571 572 573 574 575 576 577 578 579 580 581 582 583 584 585 586\n",
      " 588 589 590 591 592 593 594 595 596 597 598 599 600 602 603 604 605 606\n",
      " 607 608 609 610 611 612 613 615 616 617 619 620 621 622 623 624 625 626\n",
      " 627 628 629 634 635 637 638 639 641 642 643 644 645 646 647 649 650 651\n",
      " 653 654 655 656 657 658 659 660 661 662 663 665 666 667 668 669 670 671\n",
      " 672 673 674 675 676 677 678 679 680 681 682 683 684 686 687 688 689 690\n",
      " 691 692 694 695 696 697 698 699 700 701 703 704 705 707 708 709 710 712\n",
      " 713 715 716 717 718 719 720 721 722 723 724 727 728 729 730 731 734 735\n",
      " 736 738 740 741 742 743 744 745 746 748 749 750 752 753 754 755 756 757\n",
      " 758 759 760 761 762 763 764 765 766 768 770 771 772 773 774 775 776 777\n",
      " 778 780 781 782 783 784 786 787 788 790 791 792 793 794 795 796 797 799\n",
      " 800 801 802 803 804 805 806 807 808 809 810 811 812 813 814 815 816 817\n",
      " 818 819 820 821 822 823 824 825 826 827 828 829 830 832 833 834 835 837\n",
      " 838 839 840 841 842 843 844 845 846 847 848 850 851 852 853 854 855 857\n",
      " 859 860 861 862 863 864 866 867 869 870 871 872 873 875 876 877 879 880\n",
      " 881 882 883 885 886 887 888 889 890 891 892 893 895 896 897 898 899 900\n",
      " 901 902 903 904 905 907 908 909 910 911 912 913 914 915 916 917 918 919\n",
      " 920 921 922 923 924 925 926 927 928 929 930 931 932 934 935 939 940 942\n",
      " 943 945 946 947 948 951 953 954 956 957 958 959 960 961 962 964 965 966\n",
      " 967 969 970 971 972 973 975 976 977 978 980 981 982 983 984 985 986 987\n",
      " 988 990 991 992 993 994 995 996 997], test: [ 13  16  20  22  25  34  35  53  61  73  79 100 119 121 131 151 152 154\n",
      " 155 162 169 180 187 197 211 236 247 258 267 268 270 271 274 284 307 310\n",
      " 311 312 313 323 342 343 345 348 353 358 360 378 383 396 399 426 428 436\n",
      " 439 441 453 481 488 492 494 518 523 529 565 587 601 614 618 630 631 632\n",
      " 633 636 640 648 652 664 685 693 702 706 711 714 725 726 732 733 737 739\n",
      " 747 751 767 769 779 785 789 798 831 836 849 856 858 865 868 874 878 884\n",
      " 894 906 933 936 937 938 941 944 949 950 952 955 963 968 974 979 989]\n",
      "train: [  0   1   2   3   4   6   7   8  10  11  12  13  14  15  16  18  19  20\n",
      "  21  22  25  26  27  29  30  31  33  34  35  37  38  39  40  43  44  45\n",
      "  46  47  49  50  51  52  53  56  57  58  59  61  62  63  64  65  66  67\n",
      "  68  69  70  71  72  73  74  75  76  77  78  79  81  84  85  87  88  89\n",
      "  90  91  92  93  94  96  97  98  99 100 101 102 104 105 106 107 108 110\n",
      " 111 112 113 114 115 116 117 118 119 120 121 122 123 125 127 129 130 131\n",
      " 132 133 134 135 136 137 138 139 140 141 142 144 145 147 149 150 151 152\n",
      " 153 154 155 156 157 159 160 161 162 163 164 165 166 167 168 169 170 171\n",
      " 172 173 174 175 176 177 178 179 180 182 183 184 185 186 187 188 189 190\n",
      " 191 192 193 195 196 197 198 199 200 201 202 203 204 206 207 208 209 210\n",
      " 211 213 214 215 216 217 218 219 220 222 223 224 225 226 227 228 229 230\n",
      " 231 232 233 234 235 236 237 238 239 240 241 242 243 244 246 247 248 249\n",
      " 250 251 252 253 254 255 256 257 258 259 260 261 262 263 264 265 266 267\n",
      " 268 269 270 271 272 273 274 275 276 277 278 279 280 281 282 283 284 285\n",
      " 286 287 288 289 291 292 293 294 295 296 297 298 299 300 301 302 304 305\n",
      " 306 307 308 309 310 311 312 313 314 315 316 317 318 319 320 321 322 323\n",
      " 325 327 328 329 331 332 333 334 335 336 337 338 339 340 341 342 343 344\n",
      " 345 346 347 348 349 350 351 352 353 356 357 358 360 361 362 363 365 366\n",
      " 367 369 370 371 372 373 374 375 377 378 379 380 381 383 384 385 386 388\n",
      " 389 390 391 392 393 394 395 396 397 399 400 401 402 403 404 405 407 408\n",
      " 409 410 411 412 413 414 415 416 417 418 420 421 422 423 424 425 426 427\n",
      " 428 429 430 431 432 433 435 436 437 438 439 440 441 442 443 444 445 447\n",
      " 448 449 450 451 452 453 454 455 456 457 458 459 460 461 463 464 465 466\n",
      " 467 470 471 472 473 474 475 476 477 479 480 481 482 483 484 485 486 487\n",
      " 488 489 490 492 493 494 496 497 498 499 500 501 502 503 504 505 506 507\n",
      " 508 509 510 511 512 513 514 515 517 518 519 520 521 522 523 524 525 527\n",
      " 528 529 530 531 532 533 534 536 537 538 539 540 541 542 544 545 546 547\n",
      " 548 549 551 553 556 559 560 561 562 563 564 565 566 568 569 570 571 573\n",
      " 576 577 578 579 580 581 583 584 585 586 587 588 589 590 591 592 593 594\n",
      " 595 597 600 601 602 603 604 605 606 608 609 610 611 612 613 614 615 616\n",
      " 617 618 619 620 621 622 623 624 625 626 627 629 630 631 632 633 634 635\n",
      " 636 637 638 639 640 642 643 644 645 646 647 648 651 652 653 654 655 656\n",
      " 657 658 659 661 663 664 665 666 667 668 669 671 672 673 674 675 677 679\n",
      " 682 683 685 687 688 691 692 693 694 695 696 698 699 700 701 702 703 704\n",
      " 705 706 707 708 709 710 711 712 713 714 715 716 717 718 719 720 721 722\n",
      " 723 724 725 726 727 728 729 731 732 733 734 737 738 739 740 741 742 743\n",
      " 744 745 746 747 748 749 751 752 753 754 756 757 758 759 760 761 762 763\n",
      " 764 766 767 768 769 770 772 773 774 775 776 777 779 780 781 782 783 785\n",
      " 786 787 788 789 790 791 792 793 795 796 797 798 799 800 801 802 803 804\n",
      " 805 806 808 809 811 812 813 814 815 816 817 818 819 820 821 822 823 824\n",
      " 825 827 828 829 830 831 832 833 834 835 836 837 838 839 841 842 843 844\n",
      " 845 846 847 848 849 850 852 854 855 856 857 858 859 862 863 865 866 867\n",
      " 868 869 870 871 872 873 874 875 876 877 878 879 880 881 882 883 884 885\n",
      " 886 889 890 891 892 894 895 896 897 899 901 903 904 905 906 907 908 909\n",
      " 910 912 913 914 915 916 917 918 919 920 921 922 923 924 925 926 927 928\n",
      " 929 932 933 934 935 936 937 938 939 940 941 942 943 944 945 946 947 949\n",
      " 950 952 953 954 955 956 958 959 960 961 962 963 964 965 966 967 968 969\n",
      " 970 971 972 973 974 975 976 977 978 979 980 981 982 983 984 985 986 987\n",
      " 988 989 991 992 993 994 995 996 997], test: [  5   9  17  23  24  28  32  36  41  42  48  54  55  60  80  82  83  86\n",
      "  95 103 109 124 126 128 143 146 148 158 181 194 205 212 221 245 290 303\n",
      " 324 326 330 354 355 359 364 368 376 382 387 398 406 419 434 446 462 468\n",
      " 469 478 491 495 516 526 535 543 550 552 554 555 557 558 567 572 574 575\n",
      " 582 596 598 599 607 628 641 649 650 660 662 670 676 678 680 681 684 686\n",
      " 689 690 697 730 735 736 750 755 765 771 778 784 794 807 810 826 840 851\n",
      " 853 860 861 864 887 888 893 898 900 902 911 930 931 948 951 957 990]\n",
      "train: [  0   1   2   3   4   5   7   8   9  10  11  12  13  15  16  17  18  19\n",
      "  20  21  22  23  24  25  26  27  28  29  30  32  33  34  35  36  37  39\n",
      "  40  41  42  43  44  45  46  48  50  51  52  53  54  55  56  57  58  60\n",
      "  61  62  63  65  66  67  68  69  70  71  73  74  75  76  77  78  79  80\n",
      "  81  82  83  84  85  86  87  88  90  91  92  93  94  95  97  98  99 100\n",
      " 101 103 105 106 107 108 109 110 111 112 113 114 115 116 117 118 119 120\n",
      " 121 124 125 126 127 128 129 130 131 133 134 135 136 138 139 140 142 143\n",
      " 144 145 146 147 148 149 150 151 152 153 154 155 156 157 158 159 160 161\n",
      " 162 163 164 165 166 167 168 169 170 172 173 176 177 179 180 181 182 183\n",
      " 185 186 187 188 189 190 191 192 193 194 195 196 197 198 199 200 201 204\n",
      " 205 206 207 208 210 211 212 213 214 215 216 217 218 219 220 221 222 223\n",
      " 224 226 227 229 230 231 233 234 235 236 237 238 239 240 241 242 243 244\n",
      " 245 246 247 248 249 251 252 254 255 256 257 258 259 260 261 262 263 264\n",
      " 265 266 267 268 269 270 271 273 274 275 276 277 278 279 280 281 283 284\n",
      " 285 286 287 289 290 291 292 293 294 295 296 297 298 299 302 303 304 305\n",
      " 306 307 308 309 310 311 312 313 314 315 316 317 318 319 320 321 322 323\n",
      " 324 326 327 328 329 330 331 333 334 335 336 337 338 339 340 341 342 343\n",
      " 344 345 346 347 348 350 351 352 353 354 355 356 357 358 359 360 362 363\n",
      " 364 365 366 367 368 369 370 371 372 373 374 375 376 377 378 379 380 381\n",
      " 382 383 384 386 387 388 389 390 391 392 393 395 396 397 398 399 400 402\n",
      " 403 404 405 406 407 408 410 411 412 413 414 416 417 418 419 421 423 425\n",
      " 426 427 428 429 430 431 432 433 434 435 436 437 438 439 440 441 442 444\n",
      " 445 446 448 449 452 453 454 455 456 458 459 460 461 462 463 464 467 468\n",
      " 469 470 471 472 473 474 476 477 478 480 481 482 483 484 485 486 487 488\n",
      " 491 492 493 494 495 497 498 499 501 503 504 505 506 507 508 509 510 511\n",
      " 512 513 514 516 517 518 519 521 522 523 524 525 526 528 529 530 534 535\n",
      " 536 537 538 539 540 541 542 543 544 545 546 547 548 549 550 551 552 553\n",
      " 554 555 556 557 558 559 561 562 563 564 565 566 567 569 570 571 572 573\n",
      " 574 575 576 577 578 579 580 581 582 583 584 585 586 587 588 590 591 592\n",
      " 593 594 595 596 597 598 599 601 602 603 604 605 607 608 609 610 611 612\n",
      " 613 614 617 618 619 620 621 622 624 625 626 628 630 631 632 633 634 635\n",
      " 636 637 638 639 640 641 642 643 644 645 646 647 648 649 650 651 652 653\n",
      " 654 656 658 659 660 661 662 663 664 665 666 667 668 669 670 671 672 673\n",
      " 674 675 676 677 678 679 680 681 682 683 684 685 686 687 688 689 690 691\n",
      " 692 693 695 697 699 701 702 703 704 705 706 707 708 709 710 711 712 714\n",
      " 715 717 719 721 722 724 725 726 727 729 730 731 732 733 734 735 736 737\n",
      " 738 739 740 741 742 743 744 745 746 747 748 749 750 751 752 753 754 755\n",
      " 756 757 758 760 761 762 764 765 766 767 769 770 771 772 773 774 775 776\n",
      " 777 778 779 780 781 783 784 785 786 787 788 789 790 791 792 794 796 798\n",
      " 800 801 802 803 804 806 807 808 809 810 811 812 814 815 816 817 819 820\n",
      " 821 824 825 826 827 828 829 830 831 832 834 835 836 837 838 839 840 841\n",
      " 842 843 844 845 846 847 848 849 850 851 852 853 854 855 856 857 858 860\n",
      " 861 862 863 864 865 866 867 868 869 870 871 872 873 874 875 876 877 878\n",
      " 879 880 881 882 883 884 885 887 888 889 890 891 892 893 894 895 896 897\n",
      " 898 899 900 902 903 904 905 906 908 909 910 911 912 913 914 915 916 918\n",
      " 919 920 921 922 923 924 925 926 927 928 929 930 931 932 933 935 936 937\n",
      " 938 941 942 943 944 945 946 947 948 949 950 951 952 953 954 955 956 957\n",
      " 958 960 961 962 963 968 969 970 971 972 973 974 976 977 979 981 983 984\n",
      " 985 986 987 988 989 990 991 992 995 997], test: [  6  14  31  38  47  49  59  64  72  89  96 102 104 122 123 132 137 141\n",
      " 171 174 175 178 184 202 203 209 225 228 232 250 253 272 282 288 300 301\n",
      " 325 332 349 361 385 394 401 409 415 420 422 424 443 447 450 451 457 465\n",
      " 466 475 479 489 490 496 500 502 515 520 527 531 532 533 560 568 589 600\n",
      " 606 615 616 623 627 629 655 657 694 696 698 700 713 716 718 720 723 728\n",
      " 759 763 768 782 793 795 797 799 805 813 818 822 823 833 859 886 901 907\n",
      " 917 934 939 940 959 964 965 966 967 975 978 980 982 993 994 996]\n",
      "train: [  0   2   3   4   5   6   7   8   9  10  12  13  14  15  16  17  18  19\n",
      "  20  21  22  23  24  25  27  28  29  30  31  32  33  34  35  36  37  38\n",
      "  39  40  41  42  43  44  45  46  47  48  49  51  52  53  54  55  56  58\n",
      "  59  60  61  62  63  64  65  66  67  68  69  70  71  72  73  76  77  78\n",
      "  79  80  82  83  84  85  86  87  88  89  90  92  93  94  95  96  97  98\n",
      "  99 100 101 102 103 104 105 106 107 108 109 110 111 112 113 114 115 116\n",
      " 117 118 119 121 122 123 124 125 126 127 128 129 131 132 133 134 135 136\n",
      " 137 140 141 142 143 144 145 146 147 148 150 151 152 154 155 156 157 158\n",
      " 159 161 162 163 165 167 168 169 170 171 172 174 175 177 178 179 180 181\n",
      " 182 183 184 185 186 187 188 189 191 192 193 194 195 196 197 198 199 200\n",
      " 201 202 203 204 205 206 207 208 209 210 211 212 214 215 216 218 219 220\n",
      " 221 222 223 224 225 226 227 228 230 231 232 233 234 235 236 237 238 240\n",
      " 241 242 245 246 247 248 249 250 251 252 253 254 257 258 259 260 261 263\n",
      " 264 265 266 267 268 269 270 271 272 273 274 275 276 277 279 281 282 283\n",
      " 284 285 286 287 288 289 290 291 292 293 294 295 297 298 299 300 301 302\n",
      " 303 304 306 307 308 310 311 312 313 316 317 318 319 320 321 322 323 324\n",
      " 325 326 329 330 331 332 333 334 335 336 337 340 341 342 343 345 346 347\n",
      " 348 349 350 351 352 353 354 355 356 357 358 359 360 361 362 363 364 366\n",
      " 367 368 370 371 372 374 375 376 378 379 380 381 382 383 384 385 386 387\n",
      " 388 390 391 392 393 394 395 396 397 398 399 400 401 402 404 405 406 407\n",
      " 408 409 411 413 414 415 416 417 418 419 420 421 422 423 424 425 426 428\n",
      " 430 433 434 435 436 437 439 440 441 442 443 444 445 446 447 448 450 451\n",
      " 452 453 454 456 457 458 459 460 461 462 464 465 466 468 469 471 472 473\n",
      " 474 475 476 477 478 479 480 481 482 484 485 486 488 489 490 491 492 494\n",
      " 495 496 497 498 500 501 502 505 507 508 509 510 511 512 513 514 515 516\n",
      " 517 518 519 520 521 522 523 524 525 526 527 529 530 531 532 533 535 538\n",
      " 539 540 541 542 543 544 545 546 547 548 549 550 551 552 553 554 555 556\n",
      " 557 558 559 560 561 562 563 564 565 566 567 568 569 570 572 573 574 575\n",
      " 576 577 578 579 580 581 582 583 584 585 587 588 589 590 591 592 593 594\n",
      " 595 596 598 599 600 601 602 603 604 605 606 607 608 609 610 611 612 613\n",
      " 614 615 616 617 618 619 620 621 622 623 624 626 627 628 629 630 631 632\n",
      " 633 634 636 637 639 640 641 642 643 644 645 646 647 648 649 650 651 652\n",
      " 654 655 657 660 661 662 663 664 665 666 667 669 670 671 672 673 674 675\n",
      " 676 677 678 679 680 681 682 683 684 685 686 687 688 689 690 693 694 695\n",
      " 696 697 698 699 700 702 703 704 705 706 708 709 710 711 712 713 714 715\n",
      " 716 717 718 719 720 721 722 723 724 725 726 727 728 729 730 731 732 733\n",
      " 735 736 737 738 739 740 741 743 744 745 746 747 749 750 751 752 753 754\n",
      " 755 757 758 759 760 761 762 763 764 765 766 767 768 769 771 774 775 776\n",
      " 777 778 779 780 781 782 783 784 785 786 787 789 791 793 794 795 796 797\n",
      " 798 799 800 801 804 805 806 807 808 810 811 812 813 814 816 817 818 819\n",
      " 821 822 823 824 825 826 827 828 830 831 832 833 834 835 836 837 838 839\n",
      " 840 842 845 846 847 848 849 850 851 852 853 855 856 857 858 859 860 861\n",
      " 862 863 864 865 868 869 870 871 872 873 874 875 876 877 878 879 882 883\n",
      " 884 885 886 887 888 889 892 893 894 895 896 897 898 899 900 901 902 904\n",
      " 905 906 907 909 910 911 912 913 914 916 917 918 919 920 921 924 925 926\n",
      " 927 928 929 930 931 932 933 934 935 936 937 938 939 940 941 943 944 946\n",
      " 947 948 949 950 951 952 955 956 957 958 959 960 961 963 964 965 966 967\n",
      " 968 969 970 971 972 974 975 976 977 978 979 980 981 982 983 984 985 987\n",
      " 988 989 990 991 992 993 994 995 996 997], test: [  1  11  26  50  57  74  75  81  91 120 130 138 139 149 153 160 164 166\n",
      " 173 176 190 213 217 229 239 243 244 255 256 262 278 280 296 305 309 314\n",
      " 315 327 328 338 339 344 365 369 373 377 389 403 410 412 427 429 431 432\n",
      " 438 449 455 463 467 470 483 487 493 499 503 504 506 528 534 536 537 571\n",
      " 586 597 625 635 638 653 656 658 659 668 691 692 701 707 734 742 748 756\n",
      " 770 772 773 788 790 792 802 803 809 815 820 829 841 843 844 854 866 867\n",
      " 880 881 890 891 903 908 915 922 923 942 945 953 954 962 973 986]\n"
     ]
    }
   ],
   "source": [
    "kfold = KFold(8, shuffle = True, random_state = 13)\n",
    "for train, test in kfold.split(x,y):\n",
    "    print('train: %s, test: %s' % (train,test))"
   ]
  },
  {
   "cell_type": "code",
   "execution_count": 16,
   "id": "adb006e9-76d0-4528-b654-7fa2f1a7f6a0",
   "metadata": {},
   "outputs": [
    {
     "name": "stdout",
     "output_type": "stream",
     "text": [
      "[ 0.41806587 -0.26780514 -0.37417679 -0.01610272 -0.16382697 -0.37803905\n",
      "  0.09568219  0.6051661 ]\n"
     ]
    }
   ],
   "source": [
    "print(cross_val_score(lm, x,y, cv=8))"
   ]
  },
  {
   "cell_type": "code",
   "execution_count": 17,
   "id": "946cf4f0-8e19-4efd-8e4c-5c96fd89c2b8",
   "metadata": {},
   "outputs": [
    {
     "data": {
      "text/plain": [
       "-0.010129564104566002"
      ]
     },
     "execution_count": 17,
     "metadata": {},
     "output_type": "execute_result"
    }
   ],
   "source": [
    "np.mean(cross_val_score(lm, x,y, cv=8))"
   ]
  },
  {
   "cell_type": "code",
   "execution_count": 18,
   "id": "fb22456a-940d-45d6-a362-778abe7dc160",
   "metadata": {},
   "outputs": [
    {
     "data": {
      "text/plain": [
       "7.471533066132265"
      ]
     },
     "execution_count": 18,
     "metadata": {},
     "output_type": "execute_result"
    }
   ],
   "source": [
    "np.mean(coffee3['Cupper.Points'])"
   ]
  },
  {
   "cell_type": "markdown",
   "id": "7a6d192e-6d1c-41da-b854-2e255674c45f",
   "metadata": {},
   "source": [
    "## Linear Machine Learning Model can predict Cupper.Points within .01 with 8 folds."
   ]
  },
  {
   "cell_type": "code",
   "execution_count": null,
   "id": "d0854af4-79ef-453e-8abe-cba34def41c1",
   "metadata": {},
   "outputs": [],
   "source": []
  }
 ],
 "metadata": {
  "kernelspec": {
   "display_name": "Python 3 (ipykernel)",
   "language": "python",
   "name": "python3"
  },
  "language_info": {
   "codemirror_mode": {
    "name": "ipython",
    "version": 3
   },
   "file_extension": ".py",
   "mimetype": "text/x-python",
   "name": "python",
   "nbconvert_exporter": "python",
   "pygments_lexer": "ipython3",
   "version": "3.10.6"
  }
 },
 "nbformat": 4,
 "nbformat_minor": 5
}
